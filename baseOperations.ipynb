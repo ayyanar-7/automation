{
 "cells": [
  {
   "cell_type": "code",
   "execution_count": null,
   "metadata": {},
   "outputs": [],
   "source": [
    "# Read excel files\n",
    "def process_excel_file(file_path, password=None, sheet_name=None, skiprow=None, dtype=None):\n",
    "    try:\n",
    "        if password is not None:\n",
    "            with open(file_path, 'rb') as file:\n",
    "                office_file = msoffcrypto.OfficeFile(file)\n",
    "                office_file.load_key(password=password)\n",
    "                decrypted_workbook = io.BytesIO()\n",
    "                office_file.decrypt(decrypted_workbook)\n",
    "                print(\"Decryption successful\")\n",
    "\n",
    "            data = pd.read_excel(decrypted_workbook, sheet_name=sheet_name, skiprows=skiprow, dtype=dtype)\n",
    "            return data\n",
    "        else:\n",
    "            data = pd.read_excel(file_path, sheet_name=sheet_name, skiprows=skiprow, dtype=dtype)\n",
    "            return data\n",
    "    except Exception as e:\n",
    "        print(f\"Error processing Excel file: {e}\")\n",
    "        return None"
   ]
  },
  {
   "cell_type": "markdown",
   "metadata": {},
   "source": []
  },
  {
   "cell_type": "code",
   "execution_count": null,
   "metadata": {},
   "outputs": [],
   "source": [
    "# Recursive for find filepath using main_path & file_name\n",
    "def process_files_recursive(directory_path, file_name):\n",
    "    try:\n",
    "        for item_name in os.listdir(directory_path):\n",
    "            item_path = os.path.join(directory_path, item_name)\n",
    "\n",
    "            if os.path.isdir(item_path):\n",
    "                # If the current item is a directory, recurse into it\n",
    "                result = process_files_recursive(item_path, file_name)\n",
    "                if result:\n",
    "                    return result\n",
    "            elif item_name == file_name:\n",
    "                # If the current item is the specific Excel file, return its path\n",
    "                return item_path\n",
    "    except Exception as e:\n",
    "        print(f\"Error processing files recursively: {e}\")\n",
    "        return None"
   ]
  },
  {
   "cell_type": "code",
   "execution_count": null,
   "metadata": {},
   "outputs": [],
   "source": []
  }
 ],
 "metadata": {
  "language_info": {
   "name": "python"
  }
 },
 "nbformat": 4,
 "nbformat_minor": 2
}
